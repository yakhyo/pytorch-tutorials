{
 "cells": [
  {
   "cell_type": "markdown",
   "id": "953f65de-fd89-48ba-9b07-896b646041dd",
   "metadata": {},
   "source": [
    "# BUILD THE NEURAL NETWORK"
   ]
  },
  {
   "cell_type": "markdown",
   "id": "45714c12-7d03-4f53-95ed-cb27b8ba70af",
   "metadata": {},
   "source": [
    "Neural networks comprise of layers/modules that perform operations on data. The `torch.nn` namespace provides all the building blocks you need to build your own neural network. Every module in PyTorch subclasses the `nn.Module`. A neural network is a module itself that consists of other modules (layers). This nested structure allows for building and managing complex architectures easily.\n",
    "\n",
    "In the following sections, we’ll build a neural network to classify images in the FashionMNIST dataset."
   ]
  },
  {
   "cell_type": "code",
   "execution_count": 1,
   "id": "1455b919-a659-4b26-b2f8-08ef8ee5850c",
   "metadata": {},
   "outputs": [],
   "source": [
    "import os\n",
    "import torch\n",
    "from torch import nn\n",
    "from torch.utils.data import DataLoader\n",
    "from torchvision import datasets, transforms"
   ]
  },
  {
   "cell_type": "markdown",
   "id": "9094a170-7bba-4ac7-9861-ec7151f3fb1a",
   "metadata": {},
   "source": [
    "## Get Device for Training"
   ]
  },
  {
   "cell_type": "markdown",
   "id": "07395d6e-cce5-4018-bb7e-9300de1b7ea5",
   "metadata": {},
   "source": [
    "We want to be able to train our model on a hardware accelerator like the GPU or MPS, if available. Let’s check to see if torch.cuda or torch.backends.mps are available, otherwise we use the CPU."
   ]
  },
  {
   "cell_type": "code",
   "execution_count": 2,
   "id": "e13dc0ae-fa1d-4482-baca-adaa821e2e38",
   "metadata": {},
   "outputs": [
    {
     "name": "stdout",
     "output_type": "stream",
     "text": [
      "Using cuda device\n"
     ]
    }
   ],
   "source": [
    "device = (\n",
    "    \"cuda\"\n",
    "    if torch.cuda.is_available()\n",
    "    else \"mps\"\n",
    "    if torch.backends.mps.is_available()\n",
    "    else \"cpu\"\n",
    ")\n",
    "print(f\"Using {device} device\")"
   ]
  },
  {
   "cell_type": "markdown",
   "id": "898cad66-bed2-4508-bd91-fd1f90833956",
   "metadata": {},
   "source": [
    "## Define the Class"
   ]
  },
  {
   "cell_type": "markdown",
   "id": "21e78e1d-5680-44c4-8627-12104839487f",
   "metadata": {},
   "source": [
    "We define our neural network by subclassing `nn.Module`, and initialize the neural network layers in `__init__`. Every `nn.Module` subclass implements the operations on input data in the `forward` method."
   ]
  },
  {
   "cell_type": "code",
   "execution_count": 3,
   "id": "c34dabbb-49e7-4f41-9ab1-704522093070",
   "metadata": {},
   "outputs": [],
   "source": [
    "class NeuralNetwork(nn.Module):\n",
    "    def __init__(self):\n",
    "        super().__init__()\n",
    "        self.flatten = nn.Flatten()\n",
    "        self.linear_relu_stack = nn.Sequential(\n",
    "            nn.Linear(28*28, 512),\n",
    "            nn.ReLU(),\n",
    "            nn.Linear(512, 512),\n",
    "            nn.ReLU(),\n",
    "            nn.Linear(512, 10),\n",
    "        )\n",
    "\n",
    "    def forward(self, x):\n",
    "        x = self.flatten(x)\n",
    "        logits = self.linear_relu_stack(x)\n",
    "        return logits"
   ]
  },
  {
   "cell_type": "markdown",
   "id": "659885fc-5453-4539-af3e-8922b5861ea1",
   "metadata": {},
   "source": [
    "We create an instance of `NeuralNetwork`, and move it to the device, and print its structure.\r\n"
   ]
  },
  {
   "cell_type": "code",
   "execution_count": 4,
   "id": "5b5315a6-efd3-4760-b8dd-6440f0be077e",
   "metadata": {},
   "outputs": [
    {
     "name": "stdout",
     "output_type": "stream",
     "text": [
      "NeuralNetwork(\n",
      "  (flatten): Flatten(start_dim=1, end_dim=-1)\n",
      "  (linear_relu_stack): Sequential(\n",
      "    (0): Linear(in_features=784, out_features=512, bias=True)\n",
      "    (1): ReLU()\n",
      "    (2): Linear(in_features=512, out_features=512, bias=True)\n",
      "    (3): ReLU()\n",
      "    (4): Linear(in_features=512, out_features=10, bias=True)\n",
      "  )\n",
      ")\n"
     ]
    }
   ],
   "source": [
    "model = NeuralNetwork().to(device)\n",
    "print(model)"
   ]
  },
  {
   "cell_type": "markdown",
   "id": "901c14d1-dc69-4a51-bedc-64b97f251c1b",
   "metadata": {},
   "source": [
    "To use the model, we pass it the input data. This executes the model’s forward. Do not call `model.forward()` directly!\n",
    "\n",
    "Calling the model on the input returns a 2-dimensional tensor with dim=0 corresponding to each output of 10 raw predicted values for each class, and dim=1 corresponding to the individual values of each output. We get the prediction probabilities by passing it through an instance of the `nn.Softmax` module."
   ]
  },
  {
   "cell_type": "code",
   "execution_count": 5,
   "id": "0671a45c-0b50-4826-b338-5346fb05802f",
   "metadata": {},
   "outputs": [
    {
     "name": "stdout",
     "output_type": "stream",
     "text": [
      "Predicted class: tensor([0], device='cuda:0')\n"
     ]
    }
   ],
   "source": [
    "X = torch.rand(1, 28, 28, device=device)\n",
    "logits = model(X)\n",
    "pred_probab = nn.Softmax(dim=1)(logits)\n",
    "y_pred = pred_probab.argmax(1)\n",
    "print(f\"Predicted class: {y_pred}\")"
   ]
  },
  {
   "cell_type": "markdown",
   "id": "b28c4c4d-c4a2-4c59-be15-46b32a6dd92d",
   "metadata": {},
   "source": [
    "## Model Layers"
   ]
  },
  {
   "cell_type": "markdown",
   "id": "23c7ccd8-377f-4df3-b570-cd0aff42abb7",
   "metadata": {},
   "source": [
    "Let’s break down the layers in the FashionMNIST model. To illustrate it, we will take a sample minibatch of 3 images of size 28x28 and see what happens to it as we pass it through the network."
   ]
  },
  {
   "cell_type": "code",
   "execution_count": 6,
   "id": "2abf86a4-b6dd-43b3-95e0-4d0b83728be0",
   "metadata": {},
   "outputs": [
    {
     "name": "stdout",
     "output_type": "stream",
     "text": [
      "torch.Size([3, 28, 28])\n"
     ]
    }
   ],
   "source": [
    "input_image = torch.rand(3,28,28)\n",
    "print(input_image.size())"
   ]
  },
  {
   "cell_type": "markdown",
   "id": "2468c720-bdf6-421f-a275-8bb2def35426",
   "metadata": {},
   "source": [
    "## `nn.Flatten`"
   ]
  },
  {
   "cell_type": "markdown",
   "id": "c54cb571-f8bf-4cd2-9605-b2851e2c692c",
   "metadata": {},
   "source": [
    "We initialize the `nn.Flatten` layer to convert each 2D 28x28 image into a contiguous array of 784 pixel values ( the minibatch dimension (at dim=0) is maintained)."
   ]
  },
  {
   "cell_type": "code",
   "execution_count": 7,
   "id": "fce61a52-768a-43ac-b38a-09532562d973",
   "metadata": {},
   "outputs": [
    {
     "name": "stdout",
     "output_type": "stream",
     "text": [
      "torch.Size([3, 784])\n"
     ]
    }
   ],
   "source": [
    "flatten = nn.Flatten()\n",
    "flat_image = flatten(input_image)\n",
    "print(flat_image.size())"
   ]
  },
  {
   "cell_type": "markdown",
   "id": "bfaaabb1-84e2-4361-8e4b-fc92781a7d97",
   "metadata": {},
   "source": [
    "## `nn.Linear`"
   ]
  },
  {
   "cell_type": "markdown",
   "id": "66a5d11a-b676-4321-ab76-a4895d20ee80",
   "metadata": {},
   "source": [
    "The linear layer is a module that applies a linear transformation on the input using its stored weights and biases.\r\n"
   ]
  },
  {
   "cell_type": "code",
   "execution_count": 8,
   "id": "1e457398-3065-4535-858c-ffa70e1b5596",
   "metadata": {},
   "outputs": [
    {
     "name": "stdout",
     "output_type": "stream",
     "text": [
      "torch.Size([3, 20])\n"
     ]
    }
   ],
   "source": [
    "layer1 = nn.Linear(in_features=28*28, out_features=20)\n",
    "hidden1 = layer1(flat_image)\n",
    "print(hidden1.size())"
   ]
  },
  {
   "cell_type": "markdown",
   "id": "7d65cd40-9389-45d6-8113-b62ea5206067",
   "metadata": {},
   "source": [
    "## `nn.ReLU`"
   ]
  },
  {
   "cell_type": "markdown",
   "id": "0427de60-0aff-4459-b588-a0dc9a09707e",
   "metadata": {},
   "source": [
    "Non-linear activations are what create the complex mappings between the model’s inputs and outputs. They are applied after linear transformations to introduce nonlinearity, helping neural networks learn a wide variety of phenomena.\n",
    "\n",
    "In this model, we use `nn.ReLU` between our linear layers, but there’s other activations to introduce non-linearity in your model."
   ]
  },
  {
   "cell_type": "code",
   "execution_count": 9,
   "id": "60f6a0ce-74e1-4cfa-af8c-1245615ea4f9",
   "metadata": {},
   "outputs": [
    {
     "name": "stdout",
     "output_type": "stream",
     "text": [
      "Before ReLU: tensor([[-0.3949,  0.2080, -0.5403, -0.0520, -0.0907, -0.1181, -0.1384, -0.2970,\n",
      "         -0.0070,  0.1491, -0.4759, -0.1832, -0.5654, -0.4250,  0.0581,  0.0068,\n",
      "         -0.0907,  0.5632, -0.1164,  0.1925],\n",
      "        [-0.2258,  0.2118, -0.8614,  0.2042,  0.0952, -0.1663, -0.0191, -0.5275,\n",
      "         -0.0333,  0.4102, -0.4706, -0.1174, -0.2725, -0.3643,  0.4021,  0.2281,\n",
      "          0.1118,  0.3115, -0.1935, -0.0247],\n",
      "        [-0.1037,  0.0373, -0.1939,  0.2469,  0.4508,  0.5097,  0.0154, -0.4313,\n",
      "         -0.0063,  0.0602, -0.3013, -0.1502, -0.2079,  0.0278,  0.0134,  0.2422,\n",
      "          0.1949,  0.6743, -0.1635, -0.1780]], grad_fn=<AddmmBackward0>)\n",
      "\n",
      "\n",
      "After ReLU: tensor([[0.0000, 0.2080, 0.0000, 0.0000, 0.0000, 0.0000, 0.0000, 0.0000, 0.0000,\n",
      "         0.1491, 0.0000, 0.0000, 0.0000, 0.0000, 0.0581, 0.0068, 0.0000, 0.5632,\n",
      "         0.0000, 0.1925],\n",
      "        [0.0000, 0.2118, 0.0000, 0.2042, 0.0952, 0.0000, 0.0000, 0.0000, 0.0000,\n",
      "         0.4102, 0.0000, 0.0000, 0.0000, 0.0000, 0.4021, 0.2281, 0.1118, 0.3115,\n",
      "         0.0000, 0.0000],\n",
      "        [0.0000, 0.0373, 0.0000, 0.2469, 0.4508, 0.5097, 0.0154, 0.0000, 0.0000,\n",
      "         0.0602, 0.0000, 0.0000, 0.0000, 0.0278, 0.0134, 0.2422, 0.1949, 0.6743,\n",
      "         0.0000, 0.0000]], grad_fn=<ReluBackward0>)\n"
     ]
    }
   ],
   "source": [
    "print(f\"Before ReLU: {hidden1}\\n\\n\")\n",
    "hidden1 = nn.ReLU()(hidden1)\n",
    "print(f\"After ReLU: {hidden1}\")"
   ]
  },
  {
   "cell_type": "markdown",
   "id": "bd004a17-d278-4b7e-b000-163e7bc206ec",
   "metadata": {},
   "source": [
    "## `nn.Sequential`"
   ]
  },
  {
   "cell_type": "markdown",
   "id": "69cf523f-5e01-4c42-a1a0-7c3d4b62d027",
   "metadata": {},
   "source": [
    "`nn.Sequential` is an ordered container of modules. The data is passed through all the modules in the same order as defined. You can use sequential containers to put together a quick network like `seq_modules`."
   ]
  },
  {
   "cell_type": "code",
   "execution_count": 10,
   "id": "f11d6630-c4e8-436e-af7a-ecf3b2e3ea7b",
   "metadata": {},
   "outputs": [],
   "source": [
    "seq_modules = nn.Sequential(\n",
    "    flatten,\n",
    "    layer1,\n",
    "    nn.ReLU(),\n",
    "    nn.Linear(20, 10)\n",
    ")\n",
    "input_image = torch.rand(3,28,28)\n",
    "logits = seq_modules(input_image)"
   ]
  },
  {
   "cell_type": "markdown",
   "id": "a89c412b-a2b5-4570-9aa3-d83eee9f49ba",
   "metadata": {},
   "source": [
    "## `nn.Softmax`"
   ]
  },
  {
   "cell_type": "markdown",
   "id": "47203b0d-4cdf-40b9-9aa3-b4ac153712a4",
   "metadata": {},
   "source": [
    "The last linear layer of the neural network returns logits - raw values in `[-infty, infty]` - which are passed to the nn.Softmax module. The logits are scaled to values `[0, 1]` representing the model’s predicted probabilities for each class. `dim` parameter indicates the dimension along which the values must sum to 1."
   ]
  },
  {
   "cell_type": "code",
   "execution_count": 11,
   "id": "a2fab2ff-f969-4539-a213-180518215533",
   "metadata": {},
   "outputs": [],
   "source": [
    "softmax = nn.Softmax(dim=1)\n",
    "pred_probab = softmax(logits)"
   ]
  },
  {
   "cell_type": "markdown",
   "id": "8bd6b77e-03dd-4a64-8839-b25b7eba4d2c",
   "metadata": {},
   "source": [
    "## Model Parameters\n",
    "\n",
    "Many layers inside a neural network are parameterized, i.e. have associated weights and biases that are optimized during training. Subclassing nn.Module automatically tracks all fields defined inside your model object, and makes all parameters accessible using your model’s `parameters()` or `named_parameters()` methods.\r\n",
    "\r\n",
    "In this example, we iterate over each parameter, and print its size and a preview of its values."
   ]
  },
  {
   "cell_type": "code",
   "execution_count": 12,
   "id": "6344b120-aa8a-4f79-852d-3ebbbcbf3986",
   "metadata": {},
   "outputs": [
    {
     "name": "stdout",
     "output_type": "stream",
     "text": [
      "Model structure: NeuralNetwork(\n",
      "  (flatten): Flatten(start_dim=1, end_dim=-1)\n",
      "  (linear_relu_stack): Sequential(\n",
      "    (0): Linear(in_features=784, out_features=512, bias=True)\n",
      "    (1): ReLU()\n",
      "    (2): Linear(in_features=512, out_features=512, bias=True)\n",
      "    (3): ReLU()\n",
      "    (4): Linear(in_features=512, out_features=10, bias=True)\n",
      "  )\n",
      ")\n",
      "\n",
      "\n",
      "Layer: linear_relu_stack.0.weight | Size: torch.Size([512, 784]) | Values : tensor([[-0.0121, -0.0065, -0.0115,  ...,  0.0189,  0.0148, -0.0053],\n",
      "        [ 0.0153,  0.0289, -0.0232,  ..., -0.0168,  0.0217, -0.0250]],\n",
      "       device='cuda:0', grad_fn=<SliceBackward0>) \n",
      "\n",
      "Layer: linear_relu_stack.0.bias | Size: torch.Size([512]) | Values : tensor([ 0.0122, -0.0243], device='cuda:0', grad_fn=<SliceBackward0>) \n",
      "\n",
      "Layer: linear_relu_stack.2.weight | Size: torch.Size([512, 512]) | Values : tensor([[-0.0021,  0.0396,  0.0028,  ..., -0.0094,  0.0367,  0.0064],\n",
      "        [ 0.0024, -0.0236,  0.0059,  ..., -0.0148, -0.0132, -0.0078]],\n",
      "       device='cuda:0', grad_fn=<SliceBackward0>) \n",
      "\n",
      "Layer: linear_relu_stack.2.bias | Size: torch.Size([512]) | Values : tensor([0.0167, 0.0379], device='cuda:0', grad_fn=<SliceBackward0>) \n",
      "\n",
      "Layer: linear_relu_stack.4.weight | Size: torch.Size([10, 512]) | Values : tensor([[ 0.0437,  0.0402,  0.0311,  ...,  0.0057, -0.0083,  0.0003],\n",
      "        [ 0.0252,  0.0298, -0.0148,  ..., -0.0041,  0.0063,  0.0058]],\n",
      "       device='cuda:0', grad_fn=<SliceBackward0>) \n",
      "\n",
      "Layer: linear_relu_stack.4.bias | Size: torch.Size([10]) | Values : tensor([0.0120, 0.0327], device='cuda:0', grad_fn=<SliceBackward0>) \n",
      "\n"
     ]
    }
   ],
   "source": [
    "print(f\"Model structure: {model}\\n\\n\")\n",
    "\n",
    "for name, param in model.named_parameters():\n",
    "    print(f\"Layer: {name} | Size: {param.size()} | Values : {param[:2]} \\n\")"
   ]
  },
  {
   "cell_type": "code",
   "execution_count": null,
   "id": "a6541dd0-c0b7-46c0-a60c-52a33a05e1c9",
   "metadata": {},
   "outputs": [],
   "source": []
  }
 ],
 "metadata": {
  "kernelspec": {
   "display_name": "Python 3 (ipykernel)",
   "language": "python",
   "name": "python3"
  },
  "language_info": {
   "codemirror_mode": {
    "name": "ipython",
    "version": 3
   },
   "file_extension": ".py",
   "mimetype": "text/x-python",
   "name": "python",
   "nbconvert_exporter": "python",
   "pygments_lexer": "ipython3",
   "version": "3.10.13"
  }
 },
 "nbformat": 4,
 "nbformat_minor": 5
}

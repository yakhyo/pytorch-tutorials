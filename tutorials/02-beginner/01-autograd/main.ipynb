{
 "cells": [
  {
   "cell_type": "markdown",
   "id": "f02477e6-c231-4b62-a390-1ceebe858060",
   "metadata": {},
   "source": [
    "# A GENTLE INTRODUCTION TO `TORCH.AUTOGRAD`\n",
    "\n",
    "`torch.autograd` is PyTorch’s automatic differentiation engine that powers neural network training."
   ]
  },
  {
   "cell_type": "markdown",
   "id": "1d124872-f6e3-4cfa-8d91-9232c16b1a0c",
   "metadata": {},
   "source": [
    "## Background\n",
    "\n",
    "Neural networks (NNs) are a collection of nested functions that are executed on some input data. These functions are defined by parameters (consisting of weights and biases), which in PyTorch are stored in tensors.\n",
    "\n",
    "Training a NN happens in two steps:\n",
    "\n",
    "**Forward Propagation**: In forward prop, the NN makes its best guess about the correct output. It runs the input data through each of its functions to make this guess.\n",
    "\n",
    "**Backward Propagation**: In backprop, the NN adjusts its parameters proportionate to the error in its guess. It does this by traversing backwards from the output, collecting the derivatives of the error with respect to the parameters of the functions (gradients), and optimizing the parameters using gradient descent."
   ]
  },
  {
   "cell_type": "markdown",
   "id": "38242089-98ee-487e-b26b-c99b1f2c44f9",
   "metadata": {},
   "source": [
    "## Usage in PyTorch"
   ]
  },
  {
   "cell_type": "code",
   "execution_count": 1,
   "id": "fe758d79-6218-4460-b138-5cfab18bc2ee",
   "metadata": {},
   "outputs": [],
   "source": [
    "import torch\n",
    "from torchvision.models import resnet18, ResNet18_Weights\n",
    "model = resnet18(weights=ResNet18_Weights.DEFAULT)\n",
    "data = torch.rand(1, 3, 64, 64)\n",
    "labels = torch.rand(1, 1000)"
   ]
  },
  {
   "cell_type": "code",
   "execution_count": 2,
   "id": "c8cbe694-3c24-499b-bfb4-1af6a0f60b23",
   "metadata": {},
   "outputs": [],
   "source": [
    "# let us run forward pass\n",
    "prediction = model(data)"
   ]
  },
  {
   "cell_type": "markdown",
   "id": "aeb5732e-61eb-4857-8bf5-32e9b4bdcb2d",
   "metadata": {},
   "source": [
    "We use the model’s prediction and the corresponding label to calculate the error (`loss`). The next step is to backpropagate this error through the network. Backward propagation is kicked off when we call `.backward()` on the error tensor. Autograd then calculates and stores the gradients for each model parameter in the parameter’s `.grad` attribute."
   ]
  },
  {
   "cell_type": "code",
   "execution_count": 3,
   "id": "1e9ff9be-e712-420d-a713-7a8c2d3bd202",
   "metadata": {},
   "outputs": [],
   "source": [
    "loss = (prediction - labels).sum()\n",
    "loss.backward() # backward pass"
   ]
  },
  {
   "cell_type": "markdown",
   "id": "48d67658-e90d-49ba-8f2e-e0afcb06764e",
   "metadata": {},
   "source": [
    "Next, we load an optimizer, in this case SGD with a learning rate of 0.01 and momentum of 0.9. We register all the parameters of the model in the optimizer."
   ]
  },
  {
   "cell_type": "code",
   "execution_count": 4,
   "id": "a0fd8859-3772-4896-80bd-044752a844be",
   "metadata": {},
   "outputs": [],
   "source": [
    "optim = torch.optim.SGD(model.parameters(), lr=1e-2, momentum=0.9)"
   ]
  },
  {
   "cell_type": "markdown",
   "id": "81c7e0eb-0d80-411b-9886-79e84058aa98",
   "metadata": {},
   "source": [
    "Finally, we call `.step()` to initiate gradient descent. The optimizer adjusts each parameter by its gradient stored in `.grad`.\r\n"
   ]
  },
  {
   "cell_type": "code",
   "execution_count": 5,
   "id": "67640c1a-e163-49f5-a083-95540469a8ed",
   "metadata": {},
   "outputs": [],
   "source": [
    "optim.step() #gradient descent"
   ]
  },
  {
   "cell_type": "markdown",
   "id": "e18cc09f-62b0-4dea-8ca8-659a977ccd19",
   "metadata": {},
   "source": [
    "## Differentiation in Autograd\r\n"
   ]
  },
  {
   "cell_type": "markdown",
   "id": "04cc0273-2d6e-4a97-a484-8ce1c54d4141",
   "metadata": {},
   "source": [
    "Let’s take a look at how `autograd` collects gradients. We create two tensors `a` and `b` with `requires_grad=True`. This signals to `autograd` that every operation on them should be tracked."
   ]
  },
  {
   "cell_type": "code",
   "execution_count": 7,
   "id": "c3bb911e-08a1-40cd-9bcf-df1452cdbcc1",
   "metadata": {},
   "outputs": [],
   "source": [
    "import torch\n",
    "\n",
    "a = torch.tensor([2., 3.], requires_grad=True)\n",
    "b = torch.tensor([6., 4.], requires_grad=True)"
   ]
  },
  {
   "cell_type": "code",
   "execution_count": 9,
   "id": "a83aae7d-61bb-45c8-b67b-6ef4f268dea5",
   "metadata": {},
   "outputs": [],
   "source": [
    "# let us create another tensfor from a and b\n",
    "Q = 3*a**3 - b**2"
   ]
  },
  {
   "cell_type": "markdown",
   "id": "ac6f95ef-6ee9-447a-a060-c33dcf3c3305",
   "metadata": {},
   "source": [
    "Let’s assume `a` and `b` to be parameters of an NN, and `Q` to be the error function. In NN training, we want gradients of the error w.r.t. parameter.\n",
    "\n",
    "When we call `.backward()` on `Q`, autograd calculates these gradients and stores them in the respective tensors’ `.grad` attribute.\n",
    "\n",
    "Equivalently, we can also aggregate `Q` into a scalar and call backward implicitly, like `Q.sum().backward()`.\r\n"
   ]
  },
  {
   "cell_type": "code",
   "execution_count": 10,
   "id": "adaf0998-9c4e-4024-a6c1-d52f9b7d4835",
   "metadata": {},
   "outputs": [],
   "source": [
    "external_grad = torch.tensor([1., 1.])\n",
    "Q.backward(gradient=external_grad)"
   ]
  },
  {
   "cell_type": "markdown",
   "id": "9c30509b-d704-4c85-8ba9-be2eb837f34f",
   "metadata": {},
   "source": [
    "Gradients are now deposited in `a.grad` and `b.grad`\r\n"
   ]
  },
  {
   "cell_type": "code",
   "execution_count": 11,
   "id": "cb866a0d-af2a-47f0-af5e-fa506efccb76",
   "metadata": {},
   "outputs": [
    {
     "name": "stdout",
     "output_type": "stream",
     "text": [
      "tensor([True, True])\n",
      "tensor([True, True])\n"
     ]
    }
   ],
   "source": [
    "# check if collected gradients are correct\n",
    "print(9*a**2 == a.grad)\n",
    "print(-2*b == b.grad)"
   ]
  },
  {
   "cell_type": "code",
   "execution_count": null,
   "id": "fcb6225e-5954-414f-b0bc-49e1c0ba0712",
   "metadata": {},
   "outputs": [],
   "source": []
  }
 ],
 "metadata": {
  "kernelspec": {
   "display_name": "Python 3 (ipykernel)",
   "language": "python",
   "name": "python3"
  },
  "language_info": {
   "codemirror_mode": {
    "name": "ipython",
    "version": 3
   },
   "file_extension": ".py",
   "mimetype": "text/x-python",
   "name": "python",
   "nbconvert_exporter": "python",
   "pygments_lexer": "ipython3",
   "version": "3.10.13"
  }
 },
 "nbformat": 4,
 "nbformat_minor": 5
}
